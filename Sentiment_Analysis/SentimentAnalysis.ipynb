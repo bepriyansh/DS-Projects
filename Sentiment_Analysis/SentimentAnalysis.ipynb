{
  "nbformat": 4,
  "nbformat_minor": 0,
  "metadata": {
    "colab": {
      "provenance": [],
      "gpuType": "T4"
    },
    "kernelspec": {
      "name": "python3",
      "display_name": "Python 3"
    },
    "language_info": {
      "name": "python"
    },
    "accelerator": "GPU"
  },
  "cells": [
    {
      "cell_type": "markdown",
      "source": [
        "# Import necessary libraries"
      ],
      "metadata": {
        "id": "6_uX5vcu7iHE"
      }
    },
    {
      "cell_type": "code",
      "execution_count": 13,
      "metadata": {
        "colab": {
          "base_uri": "https://localhost:8080/"
        },
        "id": "914zMhqLxfR1",
        "outputId": "b6eeac51-1ef7-4321-bc77-4a3016b0dc0d"
      },
      "outputs": [
        {
          "output_type": "stream",
          "name": "stderr",
          "text": [
            "[nltk_data] Downloading package stopwords to /root/nltk_data...\n",
            "[nltk_data]   Package stopwords is already up-to-date!\n"
          ]
        },
        {
          "output_type": "execute_result",
          "data": {
            "text/plain": [
              "True"
            ]
          },
          "metadata": {},
          "execution_count": 13
        }
      ],
      "source": [
        "import pandas as pd\n",
        "import numpy as np\n",
        "import nltk\n",
        "from sklearn.model_selection import train_test_split\n",
        "from sklearn.feature_extraction.text import TfidfVectorizer\n",
        "from sklearn.naive_bayes import MultinomialNB\n",
        "from sklearn.linear_model import LogisticRegression\n",
        "from sklearn.metrics import accuracy_score, confusion_matrix, classification_report\n",
        "import matplotlib.pyplot as plt\n",
        "import seaborn as sns\n",
        "import re\n",
        "from nltk.corpus import stopwords\n",
        "\n",
        "# Download nltk data\n",
        "nltk.download('stopwords')"
      ]
    },
    {
      "cell_type": "code",
      "source": [
        "path = '/content/the-reddit-dataset-dataset-comments.csv'"
      ],
      "metadata": {
        "id": "8uMpRWpb2DNu"
      },
      "execution_count": 14,
      "outputs": []
    },
    {
      "cell_type": "markdown",
      "source": [
        "# Load the dataset"
      ],
      "metadata": {
        "id": "HaLlT4Lj7vcN"
      }
    },
    {
      "cell_type": "code",
      "source": [
        "_df = pd.read_csv(path)\n",
        "\n",
        "# Check the structure of the data\n",
        "_df.head()"
      ],
      "metadata": {
        "colab": {
          "base_uri": "https://localhost:8080/",
          "height": 293
        },
        "id": "U_QrEkah5Q1Z",
        "outputId": "3a46e982-7d7c-46b6-b34f-d18f781f6da8"
      },
      "execution_count": 15,
      "outputs": [
        {
          "output_type": "execute_result",
          "data": {
            "text/plain": [
              "      type       id subreddit.id subreddit.name  subreddit.nsfw  created_utc  \\\n",
              "0  comment  hyyz6g8        2r97t       datasets           False   1646173750   \n",
              "1  comment  hyyid7v        2r97t       datasets           False   1646167280   \n",
              "2  comment  hyxp1qp        2r97t       datasets           False   1646156018   \n",
              "3  comment  hyxgnyu        2r97t       datasets           False   1646152782   \n",
              "4  comment  hyxfjw6        2r97t       datasets           False   1646152345   \n",
              "\n",
              "                                           permalink  \\\n",
              "0  https://old.reddit.com/r/datasets/comments/t45...   \n",
              "1  https://old.reddit.com/r/datasets/comments/sg9...   \n",
              "2  https://old.reddit.com/r/datasets/comments/t44...   \n",
              "3  https://old.reddit.com/r/datasets/comments/t44...   \n",
              "4  https://old.reddit.com/r/datasets/comments/t49...   \n",
              "\n",
              "                                                body  sentiment  score  \n",
              "0  Spatial problem: Suitability of new locations ...     0.0772      1  \n",
              "1  Have you tried toying around with GDELT or Ali...     0.0000      2  \n",
              "2  Damn random internet person of whom I know not...    -0.3851      3  \n",
              "3  Ah nice one. Best of luck with the baby. If yo...     0.9136      3  \n",
              "4  I was about to write and say this shouldn't be...     0.0762      2  "
            ],
            "text/html": [
              "\n",
              "  <div id=\"df-ae9fce0f-12dd-437a-b62d-44f3e99bdcfb\" class=\"colab-df-container\">\n",
              "    <div>\n",
              "<style scoped>\n",
              "    .dataframe tbody tr th:only-of-type {\n",
              "        vertical-align: middle;\n",
              "    }\n",
              "\n",
              "    .dataframe tbody tr th {\n",
              "        vertical-align: top;\n",
              "    }\n",
              "\n",
              "    .dataframe thead th {\n",
              "        text-align: right;\n",
              "    }\n",
              "</style>\n",
              "<table border=\"1\" class=\"dataframe\">\n",
              "  <thead>\n",
              "    <tr style=\"text-align: right;\">\n",
              "      <th></th>\n",
              "      <th>type</th>\n",
              "      <th>id</th>\n",
              "      <th>subreddit.id</th>\n",
              "      <th>subreddit.name</th>\n",
              "      <th>subreddit.nsfw</th>\n",
              "      <th>created_utc</th>\n",
              "      <th>permalink</th>\n",
              "      <th>body</th>\n",
              "      <th>sentiment</th>\n",
              "      <th>score</th>\n",
              "    </tr>\n",
              "  </thead>\n",
              "  <tbody>\n",
              "    <tr>\n",
              "      <th>0</th>\n",
              "      <td>comment</td>\n",
              "      <td>hyyz6g8</td>\n",
              "      <td>2r97t</td>\n",
              "      <td>datasets</td>\n",
              "      <td>False</td>\n",
              "      <td>1646173750</td>\n",
              "      <td>https://old.reddit.com/r/datasets/comments/t45...</td>\n",
              "      <td>Spatial problem: Suitability of new locations ...</td>\n",
              "      <td>0.0772</td>\n",
              "      <td>1</td>\n",
              "    </tr>\n",
              "    <tr>\n",
              "      <th>1</th>\n",
              "      <td>comment</td>\n",
              "      <td>hyyid7v</td>\n",
              "      <td>2r97t</td>\n",
              "      <td>datasets</td>\n",
              "      <td>False</td>\n",
              "      <td>1646167280</td>\n",
              "      <td>https://old.reddit.com/r/datasets/comments/sg9...</td>\n",
              "      <td>Have you tried toying around with GDELT or Ali...</td>\n",
              "      <td>0.0000</td>\n",
              "      <td>2</td>\n",
              "    </tr>\n",
              "    <tr>\n",
              "      <th>2</th>\n",
              "      <td>comment</td>\n",
              "      <td>hyxp1qp</td>\n",
              "      <td>2r97t</td>\n",
              "      <td>datasets</td>\n",
              "      <td>False</td>\n",
              "      <td>1646156018</td>\n",
              "      <td>https://old.reddit.com/r/datasets/comments/t44...</td>\n",
              "      <td>Damn random internet person of whom I know not...</td>\n",
              "      <td>-0.3851</td>\n",
              "      <td>3</td>\n",
              "    </tr>\n",
              "    <tr>\n",
              "      <th>3</th>\n",
              "      <td>comment</td>\n",
              "      <td>hyxgnyu</td>\n",
              "      <td>2r97t</td>\n",
              "      <td>datasets</td>\n",
              "      <td>False</td>\n",
              "      <td>1646152782</td>\n",
              "      <td>https://old.reddit.com/r/datasets/comments/t44...</td>\n",
              "      <td>Ah nice one. Best of luck with the baby. If yo...</td>\n",
              "      <td>0.9136</td>\n",
              "      <td>3</td>\n",
              "    </tr>\n",
              "    <tr>\n",
              "      <th>4</th>\n",
              "      <td>comment</td>\n",
              "      <td>hyxfjw6</td>\n",
              "      <td>2r97t</td>\n",
              "      <td>datasets</td>\n",
              "      <td>False</td>\n",
              "      <td>1646152345</td>\n",
              "      <td>https://old.reddit.com/r/datasets/comments/t49...</td>\n",
              "      <td>I was about to write and say this shouldn't be...</td>\n",
              "      <td>0.0762</td>\n",
              "      <td>2</td>\n",
              "    </tr>\n",
              "  </tbody>\n",
              "</table>\n",
              "</div>\n",
              "    <div class=\"colab-df-buttons\">\n",
              "\n",
              "  <div class=\"colab-df-container\">\n",
              "    <button class=\"colab-df-convert\" onclick=\"convertToInteractive('df-ae9fce0f-12dd-437a-b62d-44f3e99bdcfb')\"\n",
              "            title=\"Convert this dataframe to an interactive table.\"\n",
              "            style=\"display:none;\">\n",
              "\n",
              "  <svg xmlns=\"http://www.w3.org/2000/svg\" height=\"24px\" viewBox=\"0 -960 960 960\">\n",
              "    <path d=\"M120-120v-720h720v720H120Zm60-500h600v-160H180v160Zm220 220h160v-160H400v160Zm0 220h160v-160H400v160ZM180-400h160v-160H180v160Zm440 0h160v-160H620v160ZM180-180h160v-160H180v160Zm440 0h160v-160H620v160Z\"/>\n",
              "  </svg>\n",
              "    </button>\n",
              "\n",
              "  <style>\n",
              "    .colab-df-container {\n",
              "      display:flex;\n",
              "      gap: 12px;\n",
              "    }\n",
              "\n",
              "    .colab-df-convert {\n",
              "      background-color: #E8F0FE;\n",
              "      border: none;\n",
              "      border-radius: 50%;\n",
              "      cursor: pointer;\n",
              "      display: none;\n",
              "      fill: #1967D2;\n",
              "      height: 32px;\n",
              "      padding: 0 0 0 0;\n",
              "      width: 32px;\n",
              "    }\n",
              "\n",
              "    .colab-df-convert:hover {\n",
              "      background-color: #E2EBFA;\n",
              "      box-shadow: 0px 1px 2px rgba(60, 64, 67, 0.3), 0px 1px 3px 1px rgba(60, 64, 67, 0.15);\n",
              "      fill: #174EA6;\n",
              "    }\n",
              "\n",
              "    .colab-df-buttons div {\n",
              "      margin-bottom: 4px;\n",
              "    }\n",
              "\n",
              "    [theme=dark] .colab-df-convert {\n",
              "      background-color: #3B4455;\n",
              "      fill: #D2E3FC;\n",
              "    }\n",
              "\n",
              "    [theme=dark] .colab-df-convert:hover {\n",
              "      background-color: #434B5C;\n",
              "      box-shadow: 0px 1px 3px 1px rgba(0, 0, 0, 0.15);\n",
              "      filter: drop-shadow(0px 1px 2px rgba(0, 0, 0, 0.3));\n",
              "      fill: #FFFFFF;\n",
              "    }\n",
              "  </style>\n",
              "\n",
              "    <script>\n",
              "      const buttonEl =\n",
              "        document.querySelector('#df-ae9fce0f-12dd-437a-b62d-44f3e99bdcfb button.colab-df-convert');\n",
              "      buttonEl.style.display =\n",
              "        google.colab.kernel.accessAllowed ? 'block' : 'none';\n",
              "\n",
              "      async function convertToInteractive(key) {\n",
              "        const element = document.querySelector('#df-ae9fce0f-12dd-437a-b62d-44f3e99bdcfb');\n",
              "        const dataTable =\n",
              "          await google.colab.kernel.invokeFunction('convertToInteractive',\n",
              "                                                    [key], {});\n",
              "        if (!dataTable) return;\n",
              "\n",
              "        const docLinkHtml = 'Like what you see? Visit the ' +\n",
              "          '<a target=\"_blank\" href=https://colab.research.google.com/notebooks/data_table.ipynb>data table notebook</a>'\n",
              "          + ' to learn more about interactive tables.';\n",
              "        element.innerHTML = '';\n",
              "        dataTable['output_type'] = 'display_data';\n",
              "        await google.colab.output.renderOutput(dataTable, element);\n",
              "        const docLink = document.createElement('div');\n",
              "        docLink.innerHTML = docLinkHtml;\n",
              "        element.appendChild(docLink);\n",
              "      }\n",
              "    </script>\n",
              "  </div>\n",
              "\n",
              "\n",
              "<div id=\"df-1432bdb6-f625-476c-89d5-22de2541e0b8\">\n",
              "  <button class=\"colab-df-quickchart\" onclick=\"quickchart('df-1432bdb6-f625-476c-89d5-22de2541e0b8')\"\n",
              "            title=\"Suggest charts\"\n",
              "            style=\"display:none;\">\n",
              "\n",
              "<svg xmlns=\"http://www.w3.org/2000/svg\" height=\"24px\"viewBox=\"0 0 24 24\"\n",
              "     width=\"24px\">\n",
              "    <g>\n",
              "        <path d=\"M19 3H5c-1.1 0-2 .9-2 2v14c0 1.1.9 2 2 2h14c1.1 0 2-.9 2-2V5c0-1.1-.9-2-2-2zM9 17H7v-7h2v7zm4 0h-2V7h2v10zm4 0h-2v-4h2v4z\"/>\n",
              "    </g>\n",
              "</svg>\n",
              "  </button>\n",
              "\n",
              "<style>\n",
              "  .colab-df-quickchart {\n",
              "      --bg-color: #E8F0FE;\n",
              "      --fill-color: #1967D2;\n",
              "      --hover-bg-color: #E2EBFA;\n",
              "      --hover-fill-color: #174EA6;\n",
              "      --disabled-fill-color: #AAA;\n",
              "      --disabled-bg-color: #DDD;\n",
              "  }\n",
              "\n",
              "  [theme=dark] .colab-df-quickchart {\n",
              "      --bg-color: #3B4455;\n",
              "      --fill-color: #D2E3FC;\n",
              "      --hover-bg-color: #434B5C;\n",
              "      --hover-fill-color: #FFFFFF;\n",
              "      --disabled-bg-color: #3B4455;\n",
              "      --disabled-fill-color: #666;\n",
              "  }\n",
              "\n",
              "  .colab-df-quickchart {\n",
              "    background-color: var(--bg-color);\n",
              "    border: none;\n",
              "    border-radius: 50%;\n",
              "    cursor: pointer;\n",
              "    display: none;\n",
              "    fill: var(--fill-color);\n",
              "    height: 32px;\n",
              "    padding: 0;\n",
              "    width: 32px;\n",
              "  }\n",
              "\n",
              "  .colab-df-quickchart:hover {\n",
              "    background-color: var(--hover-bg-color);\n",
              "    box-shadow: 0 1px 2px rgba(60, 64, 67, 0.3), 0 1px 3px 1px rgba(60, 64, 67, 0.15);\n",
              "    fill: var(--button-hover-fill-color);\n",
              "  }\n",
              "\n",
              "  .colab-df-quickchart-complete:disabled,\n",
              "  .colab-df-quickchart-complete:disabled:hover {\n",
              "    background-color: var(--disabled-bg-color);\n",
              "    fill: var(--disabled-fill-color);\n",
              "    box-shadow: none;\n",
              "  }\n",
              "\n",
              "  .colab-df-spinner {\n",
              "    border: 2px solid var(--fill-color);\n",
              "    border-color: transparent;\n",
              "    border-bottom-color: var(--fill-color);\n",
              "    animation:\n",
              "      spin 1s steps(1) infinite;\n",
              "  }\n",
              "\n",
              "  @keyframes spin {\n",
              "    0% {\n",
              "      border-color: transparent;\n",
              "      border-bottom-color: var(--fill-color);\n",
              "      border-left-color: var(--fill-color);\n",
              "    }\n",
              "    20% {\n",
              "      border-color: transparent;\n",
              "      border-left-color: var(--fill-color);\n",
              "      border-top-color: var(--fill-color);\n",
              "    }\n",
              "    30% {\n",
              "      border-color: transparent;\n",
              "      border-left-color: var(--fill-color);\n",
              "      border-top-color: var(--fill-color);\n",
              "      border-right-color: var(--fill-color);\n",
              "    }\n",
              "    40% {\n",
              "      border-color: transparent;\n",
              "      border-right-color: var(--fill-color);\n",
              "      border-top-color: var(--fill-color);\n",
              "    }\n",
              "    60% {\n",
              "      border-color: transparent;\n",
              "      border-right-color: var(--fill-color);\n",
              "    }\n",
              "    80% {\n",
              "      border-color: transparent;\n",
              "      border-right-color: var(--fill-color);\n",
              "      border-bottom-color: var(--fill-color);\n",
              "    }\n",
              "    90% {\n",
              "      border-color: transparent;\n",
              "      border-bottom-color: var(--fill-color);\n",
              "    }\n",
              "  }\n",
              "</style>\n",
              "\n",
              "  <script>\n",
              "    async function quickchart(key) {\n",
              "      const quickchartButtonEl =\n",
              "        document.querySelector('#' + key + ' button');\n",
              "      quickchartButtonEl.disabled = true;  // To prevent multiple clicks.\n",
              "      quickchartButtonEl.classList.add('colab-df-spinner');\n",
              "      try {\n",
              "        const charts = await google.colab.kernel.invokeFunction(\n",
              "            'suggestCharts', [key], {});\n",
              "      } catch (error) {\n",
              "        console.error('Error during call to suggestCharts:', error);\n",
              "      }\n",
              "      quickchartButtonEl.classList.remove('colab-df-spinner');\n",
              "      quickchartButtonEl.classList.add('colab-df-quickchart-complete');\n",
              "    }\n",
              "    (() => {\n",
              "      let quickchartButtonEl =\n",
              "        document.querySelector('#df-1432bdb6-f625-476c-89d5-22de2541e0b8 button');\n",
              "      quickchartButtonEl.style.display =\n",
              "        google.colab.kernel.accessAllowed ? 'block' : 'none';\n",
              "    })();\n",
              "  </script>\n",
              "</div>\n",
              "\n",
              "    </div>\n",
              "  </div>\n"
            ],
            "application/vnd.google.colaboratory.intrinsic+json": {
              "type": "dataframe",
              "variable_name": "_df",
              "summary": "{\n  \"name\": \"_df\",\n  \"rows\": 54848,\n  \"fields\": [\n    {\n      \"column\": \"type\",\n      \"properties\": {\n        \"dtype\": \"category\",\n        \"num_unique_values\": 1,\n        \"samples\": [\n          \"comment\"\n        ],\n        \"semantic_type\": \"\",\n        \"description\": \"\"\n      }\n    },\n    {\n      \"column\": \"id\",\n      \"properties\": {\n        \"dtype\": \"string\",\n        \"num_unique_values\": 54848,\n        \"samples\": [\n          \"d7gnzas\"\n        ],\n        \"semantic_type\": \"\",\n        \"description\": \"\"\n      }\n    },\n    {\n      \"column\": \"subreddit.id\",\n      \"properties\": {\n        \"dtype\": \"category\",\n        \"num_unique_values\": 1,\n        \"samples\": [\n          \"2r97t\"\n        ],\n        \"semantic_type\": \"\",\n        \"description\": \"\"\n      }\n    },\n    {\n      \"column\": \"subreddit.name\",\n      \"properties\": {\n        \"dtype\": \"category\",\n        \"num_unique_values\": 1,\n        \"samples\": [\n          \"datasets\"\n        ],\n        \"semantic_type\": \"\",\n        \"description\": \"\"\n      }\n    },\n    {\n      \"column\": \"subreddit.nsfw\",\n      \"properties\": {\n        \"dtype\": \"boolean\",\n        \"num_unique_values\": 1,\n        \"samples\": [\n          false\n        ],\n        \"semantic_type\": \"\",\n        \"description\": \"\"\n      }\n    },\n    {\n      \"column\": \"created_utc\",\n      \"properties\": {\n        \"dtype\": \"number\",\n        \"std\": 75077442,\n        \"min\": 1270455534,\n        \"max\": 1646173750,\n        \"num_unique_values\": 54770,\n        \"samples\": [\n          1583186501\n        ],\n        \"semantic_type\": \"\",\n        \"description\": \"\"\n      }\n    },\n    {\n      \"column\": \"permalink\",\n      \"properties\": {\n        \"dtype\": \"string\",\n        \"num_unique_values\": 54848,\n        \"samples\": [\n          \"https://old.reddit.com/r/datasets/comments/5214o6/need_help_obtaining_a_dataset_icpsr_7757_now_that/d7gnzas/\"\n        ],\n        \"semantic_type\": \"\",\n        \"description\": \"\"\n      }\n    },\n    {\n      \"column\": \"body\",\n      \"properties\": {\n        \"dtype\": \"string\",\n        \"num_unique_values\": 49707,\n        \"samples\": [\n          \"Fair point. What would have exponential probability distribution?\"\n        ],\n        \"semantic_type\": \"\",\n        \"description\": \"\"\n      }\n    },\n    {\n      \"column\": \"sentiment\",\n      \"properties\": {\n        \"dtype\": \"number\",\n        \"std\": 0.43514318526743234,\n        \"min\": -0.9991,\n        \"max\": 0.9999,\n        \"num_unique_values\": 6291,\n        \"samples\": [\n          0.8784\n        ],\n        \"semantic_type\": \"\",\n        \"description\": \"\"\n      }\n    },\n    {\n      \"column\": \"score\",\n      \"properties\": {\n        \"dtype\": \"number\",\n        \"std\": 3,\n        \"min\": -65,\n        \"max\": 195,\n        \"num_unique_values\": 94,\n        \"samples\": [\n          21\n        ],\n        \"semantic_type\": \"\",\n        \"description\": \"\"\n      }\n    }\n  ]\n}"
            }
          },
          "metadata": {},
          "execution_count": 15
        }
      ]
    },
    {
      "cell_type": "markdown",
      "source": [
        "# Check for missing values and drop them if necessary"
      ],
      "metadata": {
        "id": "fRmoFxin7zeg"
      }
    },
    {
      "cell_type": "code",
      "source": [
        "_df.dropna(subset=['body', 'sentiment'], inplace=True)\n",
        "\n",
        "# Function to clean the text (remove special characters and stopwords)\n",
        "def clean_text(text):\n",
        "    text = re.sub(r'[^a-zA-Z\\s]', '', text)  # Remove non-alphabetic characters\n",
        "    text = text.lower()  # Convert to lowercase\n",
        "    text = ' '.join([word for word in text.split() if word not in stopwords.words('english')])  # Remove stopwords\n",
        "    return text\n",
        "\n",
        "# Apply cleaning function to 'body' column\n",
        "_df['cleaned_comment'] = _df['body'].apply(clean_text)"
      ],
      "metadata": {
        "id": "P7OStDeH5WGI"
      },
      "execution_count": 16,
      "outputs": []
    },
    {
      "cell_type": "code",
      "source": [
        "df = _df"
      ],
      "metadata": {
        "id": "tc8rBsd05ovt"
      },
      "execution_count": 17,
      "outputs": []
    },
    {
      "cell_type": "markdown",
      "source": [
        "# Function to categorize sentiment score into positive, negative, and neutral"
      ],
      "metadata": {
        "id": "qP5rJKpC75TV"
      }
    },
    {
      "cell_type": "code",
      "source": [
        "def categorize_sentiment(score):\n",
        "    if score > 0.1:   # Positive sentiment\n",
        "        return 'positive'\n",
        "    elif score < -0.1:  # Negative sentiment\n",
        "        return 'negative'\n",
        "    else:  # Neutral sentiment\n",
        "        return 'neutral'\n",
        "\n",
        "# Apply sentiment categorization\n",
        "df['sentiment_label'] = df['sentiment'].apply(categorize_sentiment)"
      ],
      "metadata": {
        "id": "M7Po0_ZH5vpx"
      },
      "execution_count": 18,
      "outputs": []
    },
    {
      "cell_type": "markdown",
      "source": [
        "# Prepare data for training"
      ],
      "metadata": {
        "id": "V8-BAFq-8AXk"
      }
    },
    {
      "cell_type": "code",
      "source": [
        "X = df['cleaned_comment']  # Feature: cleaned comments\n",
        "y = df['sentiment_label']  # Label: sentiment categories\n",
        "\n",
        "# Split the data into training and testing sets (80% train, 20% test)\n",
        "X_train, X_test, y_train, y_test = train_test_split(X, y, test_size=0.2, random_state=42)"
      ],
      "metadata": {
        "id": "W4Tn3vR750ou"
      },
      "execution_count": 19,
      "outputs": []
    },
    {
      "cell_type": "markdown",
      "source": [
        "# Initialize the TF-IDF vectorizer\n"
      ],
      "metadata": {
        "id": "Q-D0Z7Bm8F-W"
      }
    },
    {
      "cell_type": "code",
      "source": [
        "vectorizer = TfidfVectorizer(max_features=5000)\n",
        "\n",
        "# Fit and transform the training data, and transform the test data\n",
        "X_train_tfidf = vectorizer.fit_transform(X_train)\n",
        "X_test_tfidf = vectorizer.transform(X_test)"
      ],
      "metadata": {
        "id": "zuO5Gz7754Ui"
      },
      "execution_count": 20,
      "outputs": []
    },
    {
      "cell_type": "markdown",
      "source": [
        "# Naive Bayes\n",
        "### Train the Naive Bayes model"
      ],
      "metadata": {
        "id": "EovUzVk-8IGt"
      }
    },
    {
      "cell_type": "code",
      "source": [
        "nb_model = MultinomialNB()\n",
        "nb_model.fit(X_train_tfidf, y_train)\n",
        "\n",
        "# Predict on test data\n",
        "y_pred_nb = nb_model.predict(X_test_tfidf)\n",
        "\n",
        "# Evaluate the model\n",
        "print(f'Naive Bayes Accuracy: {accuracy_score(y_test, y_pred_nb):.4f}')\n",
        "print(confusion_matrix(y_test, y_pred_nb))\n",
        "print(classification_report(y_test, y_pred_nb))"
      ],
      "metadata": {
        "colab": {
          "base_uri": "https://localhost:8080/"
        },
        "id": "Wr3zvkVU599h",
        "outputId": "d0e43c12-04c3-4072-cdca-0e5f2d7eb00d"
      },
      "execution_count": 21,
      "outputs": [
        {
          "output_type": "stream",
          "name": "stdout",
          "text": [
            "Naive Bayes Accuracy: 0.6633\n",
            "[[ 189   79  967]\n",
            " [  12  572 2001]\n",
            " [  32   99 5523]]\n",
            "              precision    recall  f1-score   support\n",
            "\n",
            "    negative       0.81      0.15      0.26      1235\n",
            "     neutral       0.76      0.22      0.34      2585\n",
            "    positive       0.65      0.98      0.78      5654\n",
            "\n",
            "    accuracy                           0.66      9474\n",
            "   macro avg       0.74      0.45      0.46      9474\n",
            "weighted avg       0.70      0.66      0.59      9474\n",
            "\n"
          ]
        }
      ]
    },
    {
      "cell_type": "markdown",
      "source": [
        "# Confusion matrix visualization"
      ],
      "metadata": {
        "id": "A-tfqqrV8PHn"
      }
    },
    {
      "cell_type": "code",
      "source": [
        "cm_nb = confusion_matrix(y_test, y_pred_nb)\n",
        "\n",
        "classes = sorted(y_test.unique())\n",
        "\n",
        "sns.heatmap(cm_nb, annot=True, fmt=\"d\", cmap=\"Blues\", xticklabels=classes, yticklabels=classes)\n",
        "plt.title(\"Naive Bayes Confusion Matrix\")\n",
        "plt.xlabel(\"Predicted\")\n",
        "plt.ylabel(\"Actual\")\n",
        "plt.show()"
      ],
      "metadata": {
        "colab": {
          "base_uri": "https://localhost:8080/",
          "height": 472
        },
        "id": "-sT3AXUv4Tt7",
        "outputId": "c8e433d7-a096-4850-e05a-d5413aef432b"
      },
      "execution_count": 22,
      "outputs": [
        {
          "output_type": "display_data",
          "data": {
            "text/plain": [
              "<Figure size 640x480 with 2 Axes>"
            ],
            "image/png": "[encoded data removed]"
          },
          "metadata": {}
        }
      ]
    },
    {
      "cell_type": "markdown",
      "source": [
        "# Logistic Regression Model\n",
        "### Train the Logistic Regression model"
      ],
      "metadata": {
        "id": "aPRymeqF8QxQ"
      }
    },
    {
      "cell_type": "code",
      "source": [
        "lr_model = LogisticRegression(max_iter=1000)\n",
        "lr_model.fit(X_train_tfidf, y_train)\n",
        "\n",
        "# Predict on test data\n",
        "y_pred_lr = lr_model.predict(X_test_tfidf)\n",
        "\n",
        "# Evaluate the Logistic Regression model\n",
        "print(f'Logistic Regression Accuracy: {accuracy_score(y_test, y_pred_lr):.4f}')\n",
        "print(confusion_matrix(y_test, y_pred_lr))\n",
        "print(classification_report(y_test, y_pred_lr))"
      ],
      "metadata": {
        "colab": {
          "base_uri": "https://localhost:8080/"
        },
        "id": "yRawD2y16PTz",
        "outputId": "6487e35b-e532-459e-c88f-3d76044ba660"
      },
      "execution_count": 23,
      "outputs": [
        {
          "output_type": "stream",
          "name": "stdout",
          "text": [
            "Logistic Regression Accuracy: 0.8528\n",
            "[[ 516  273  446]\n",
            " [  59 2293  233]\n",
            " [ 109  275 5270]]\n",
            "              precision    recall  f1-score   support\n",
            "\n",
            "    negative       0.75      0.42      0.54      1235\n",
            "     neutral       0.81      0.89      0.85      2585\n",
            "    positive       0.89      0.93      0.91      5654\n",
            "\n",
            "    accuracy                           0.85      9474\n",
            "   macro avg       0.82      0.75      0.76      9474\n",
            "weighted avg       0.85      0.85      0.84      9474\n",
            "\n"
          ]
        }
      ]
    },
    {
      "cell_type": "markdown",
      "source": [
        "# Confusion matrix visualization for Logistic Regression"
      ],
      "metadata": {
        "id": "aLWEn3ZF8iD5"
      }
    },
    {
      "cell_type": "code",
      "source": [
        "cm_lr = confusion_matrix(y_test, y_pred_lr)\n",
        "\n",
        "classes = sorted(y_test.unique())\n",
        "\n",
        "sns.heatmap(cm_lr, annot=True, fmt=\"d\", cmap=\"Blues\", xticklabels=classes, yticklabels=classes)\n",
        "plt.title(\"Logistic Regression Confusion Matrix\")\n",
        "plt.xlabel(\"Predicted\")\n",
        "plt.ylabel(\"Actual\")\n",
        "plt.show()"
      ],
      "metadata": {
        "colab": {
          "base_uri": "https://localhost:8080/",
          "height": 472
        },
        "id": "19Hfjnpy6hGh",
        "outputId": "f8f97843-bcb0-4bc8-fa0b-69f96b4c6f59"
      },
      "execution_count": 29,
      "outputs": [
        {
          "output_type": "display_data",
          "data": {
            "text/plain": [
              "<Figure size 640x480 with 2 Axes>"
            ],
            "image/png": "[encoded data removed]"
          },
          "metadata": {}
        }
      ]
    },
    {
      "cell_type": "markdown",
      "source": [
        "# Model Comparison\n",
        "\n",
        "### Compare the performance of both models"
      ],
      "metadata": {
        "id": "BmzqUY9L8mBF"
      }
    },
    {
      "cell_type": "code",
      "source": [
        "models = ['Naive Bayes', 'Logistic Regression']\n",
        "accuracies = [accuracy_score(y_test, y_pred_nb), accuracy_score(y_test, y_pred_lr)]\n",
        "\n",
        "# Plotting accuracy comparison\n",
        "plt.bar(models, accuracies, color=['blue', 'green'])\n",
        "plt.xlabel('Model')\n",
        "plt.ylabel('Accuracy')\n",
        "plt.title('Comparison of Sentiment Analysis Models')\n",
        "plt.show()"
      ],
      "metadata": {
        "colab": {
          "base_uri": "https://localhost:8080/",
          "height": 472
        },
        "id": "0yYMHU6x6jJ3",
        "outputId": "5b690061-0cb2-4501-e225-f0f7d280e0d8"
      },
      "execution_count": 25,
      "outputs": [
        {
          "output_type": "display_data",
          "data": {
            "text/plain": [
              "<Figure size 640x480 with 1 Axes>"
            ],
            "image/png": "[encoded data removed]"
          },
          "metadata": {}
        }
      ]
    }
  ]
}